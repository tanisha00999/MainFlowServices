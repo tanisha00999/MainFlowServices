{
  "nbformat": 4,
  "nbformat_minor": 0,
  "metadata": {
    "colab": {
      "provenance": [],
      "authorship_tag": "ABX9TyN/BX9w1AyYS32LWFh041Is",
      "include_colab_link": true
    },
    "kernelspec": {
      "name": "python3",
      "display_name": "Python 3"
    },
    "language_info": {
      "name": "python"
    }
  },
  "cells": [
    {
      "cell_type": "markdown",
      "metadata": {
        "id": "view-in-github",
        "colab_type": "text"
      },
      "source": [
        "<a href=\"https://colab.research.google.com/github/tanisha00999/MainFlowServices/blob/main/Task_3.ipynb\" target=\"_parent\"><img src=\"https://colab.research.google.com/assets/colab-badge.svg\" alt=\"Open In Colab\"/></a>"
      ]
    },
    {
      "cell_type": "markdown",
      "source": [
        "# ***Task -- 3***"
      ],
      "metadata": {
        "id": "UcGxvXeDqlSn"
      }
    },
    {
      "cell_type": "markdown",
      "source": [
        "# **Import all the necessary Libraries**"
      ],
      "metadata": {
        "id": "negpsa33qFWU"
      }
    },
    {
      "cell_type": "code",
      "execution_count": 1,
      "metadata": {
        "id": "AeTc1e3Pn8Ux"
      },
      "outputs": [],
      "source": [
        "import pandas as pd\n",
        "import numpy as np\n",
        "import matplotlib.pyplot as plt\n",
        "import seaborn as sns\n",
        "from datetime import datetime"
      ]
    },
    {
      "cell_type": "markdown",
      "source": [
        "# **Read the CSV File and explore the data**"
      ],
      "metadata": {
        "id": "GLsmjS4wqLd0"
      }
    },
    {
      "cell_type": "code",
      "source": [
        "data = pd.read_csv('/content/householdtask3.csv')"
      ],
      "metadata": {
        "id": "6icKSp_OodVj"
      },
      "execution_count": 2,
      "outputs": []
    },
    {
      "cell_type": "code",
      "source": [
        "display(data.head(10))"
      ],
      "metadata": {
        "colab": {
          "base_uri": "https://localhost:8080/",
          "height": 363
        },
        "id": "32E71xSOomiV",
        "outputId": "a71118bf-2145-4a8c-bb27-5252d43d237d"
      },
      "execution_count": 3,
      "outputs": [
        {
          "output_type": "display_data",
          "data": {
            "text/plain": [
              "   year  tot_hhs      own  own_wm  own_prop  own_wm_prop  prop_hhs   age  \\\n",
              "0  2008  1560859  1087580  574406      69.7         36.8     100.0  35.9   \n",
              "1  2008   185965    71256   39405      38.3         21.2      11.9  29.9   \n",
              "2  2008   312376   191470   48424      61.3         15.5      20.0  40.0   \n",
              "3  2008   312333   196203   84171      62.8         26.9      20.0  34.7   \n",
              "4  2008   312240   217657  141318      69.7         45.3      20.0  31.5   \n",
              "5  2008   312336   229014  147658      73.3         47.3      20.0  35.3   \n",
              "6  2008   311574   253235  152835      81.3         49.1      20.0  39.3   \n",
              "7  2008   312761   194358   49448      62.1         15.8      20.0  38.7   \n",
              "8  2008   311973   206342   86390      66.1         27.7      20.0  36.1   \n",
              "9  2008   311840   194361  108065      62.3         34.7      20.0  33.0   \n",
              "\n",
              "   size  income  expenditure  eqv_income  eqv_exp  \n",
              "0   2.7   46704        42394       26869    25132  \n",
              "1   2.6   23404        25270       14258    15824  \n",
              "2   2.3   16747        21145       13402    14408  \n",
              "3   2.8   31308        29855       18917    18266  \n",
              "4   3.0   49106        46561       26870    24672  \n",
              "5   2.6   61674        52776       36691    31958  \n",
              "6   2.5   96861        72822       55637    42932  \n",
              "7   2.5   23680        16413       15190    11015  \n",
              "8   2.7   34155        29085       20357    18121  \n",
              "9   2.8   49771        42662       27203    25132  "
            ],
            "text/html": [
              "\n",
              "  <div id=\"df-f058c2cb-700d-4d32-a4f5-0e6bf4bc4e6c\" class=\"colab-df-container\">\n",
              "    <div>\n",
              "<style scoped>\n",
              "    .dataframe tbody tr th:only-of-type {\n",
              "        vertical-align: middle;\n",
              "    }\n",
              "\n",
              "    .dataframe tbody tr th {\n",
              "        vertical-align: top;\n",
              "    }\n",
              "\n",
              "    .dataframe thead th {\n",
              "        text-align: right;\n",
              "    }\n",
              "</style>\n",
              "<table border=\"1\" class=\"dataframe\">\n",
              "  <thead>\n",
              "    <tr style=\"text-align: right;\">\n",
              "      <th></th>\n",
              "      <th>year</th>\n",
              "      <th>tot_hhs</th>\n",
              "      <th>own</th>\n",
              "      <th>own_wm</th>\n",
              "      <th>own_prop</th>\n",
              "      <th>own_wm_prop</th>\n",
              "      <th>prop_hhs</th>\n",
              "      <th>age</th>\n",
              "      <th>size</th>\n",
              "      <th>income</th>\n",
              "      <th>expenditure</th>\n",
              "      <th>eqv_income</th>\n",
              "      <th>eqv_exp</th>\n",
              "    </tr>\n",
              "  </thead>\n",
              "  <tbody>\n",
              "    <tr>\n",
              "      <th>0</th>\n",
              "      <td>2008</td>\n",
              "      <td>1560859</td>\n",
              "      <td>1087580</td>\n",
              "      <td>574406</td>\n",
              "      <td>69.7</td>\n",
              "      <td>36.8</td>\n",
              "      <td>100.0</td>\n",
              "      <td>35.9</td>\n",
              "      <td>2.7</td>\n",
              "      <td>46704</td>\n",
              "      <td>42394</td>\n",
              "      <td>26869</td>\n",
              "      <td>25132</td>\n",
              "    </tr>\n",
              "    <tr>\n",
              "      <th>1</th>\n",
              "      <td>2008</td>\n",
              "      <td>185965</td>\n",
              "      <td>71256</td>\n",
              "      <td>39405</td>\n",
              "      <td>38.3</td>\n",
              "      <td>21.2</td>\n",
              "      <td>11.9</td>\n",
              "      <td>29.9</td>\n",
              "      <td>2.6</td>\n",
              "      <td>23404</td>\n",
              "      <td>25270</td>\n",
              "      <td>14258</td>\n",
              "      <td>15824</td>\n",
              "    </tr>\n",
              "    <tr>\n",
              "      <th>2</th>\n",
              "      <td>2008</td>\n",
              "      <td>312376</td>\n",
              "      <td>191470</td>\n",
              "      <td>48424</td>\n",
              "      <td>61.3</td>\n",
              "      <td>15.5</td>\n",
              "      <td>20.0</td>\n",
              "      <td>40.0</td>\n",
              "      <td>2.3</td>\n",
              "      <td>16747</td>\n",
              "      <td>21145</td>\n",
              "      <td>13402</td>\n",
              "      <td>14408</td>\n",
              "    </tr>\n",
              "    <tr>\n",
              "      <th>3</th>\n",
              "      <td>2008</td>\n",
              "      <td>312333</td>\n",
              "      <td>196203</td>\n",
              "      <td>84171</td>\n",
              "      <td>62.8</td>\n",
              "      <td>26.9</td>\n",
              "      <td>20.0</td>\n",
              "      <td>34.7</td>\n",
              "      <td>2.8</td>\n",
              "      <td>31308</td>\n",
              "      <td>29855</td>\n",
              "      <td>18917</td>\n",
              "      <td>18266</td>\n",
              "    </tr>\n",
              "    <tr>\n",
              "      <th>4</th>\n",
              "      <td>2008</td>\n",
              "      <td>312240</td>\n",
              "      <td>217657</td>\n",
              "      <td>141318</td>\n",
              "      <td>69.7</td>\n",
              "      <td>45.3</td>\n",
              "      <td>20.0</td>\n",
              "      <td>31.5</td>\n",
              "      <td>3.0</td>\n",
              "      <td>49106</td>\n",
              "      <td>46561</td>\n",
              "      <td>26870</td>\n",
              "      <td>24672</td>\n",
              "    </tr>\n",
              "    <tr>\n",
              "      <th>5</th>\n",
              "      <td>2008</td>\n",
              "      <td>312336</td>\n",
              "      <td>229014</td>\n",
              "      <td>147658</td>\n",
              "      <td>73.3</td>\n",
              "      <td>47.3</td>\n",
              "      <td>20.0</td>\n",
              "      <td>35.3</td>\n",
              "      <td>2.6</td>\n",
              "      <td>61674</td>\n",
              "      <td>52776</td>\n",
              "      <td>36691</td>\n",
              "      <td>31958</td>\n",
              "    </tr>\n",
              "    <tr>\n",
              "      <th>6</th>\n",
              "      <td>2008</td>\n",
              "      <td>311574</td>\n",
              "      <td>253235</td>\n",
              "      <td>152835</td>\n",
              "      <td>81.3</td>\n",
              "      <td>49.1</td>\n",
              "      <td>20.0</td>\n",
              "      <td>39.3</td>\n",
              "      <td>2.5</td>\n",
              "      <td>96861</td>\n",
              "      <td>72822</td>\n",
              "      <td>55637</td>\n",
              "      <td>42932</td>\n",
              "    </tr>\n",
              "    <tr>\n",
              "      <th>7</th>\n",
              "      <td>2008</td>\n",
              "      <td>312761</td>\n",
              "      <td>194358</td>\n",
              "      <td>49448</td>\n",
              "      <td>62.1</td>\n",
              "      <td>15.8</td>\n",
              "      <td>20.0</td>\n",
              "      <td>38.7</td>\n",
              "      <td>2.5</td>\n",
              "      <td>23680</td>\n",
              "      <td>16413</td>\n",
              "      <td>15190</td>\n",
              "      <td>11015</td>\n",
              "    </tr>\n",
              "    <tr>\n",
              "      <th>8</th>\n",
              "      <td>2008</td>\n",
              "      <td>311973</td>\n",
              "      <td>206342</td>\n",
              "      <td>86390</td>\n",
              "      <td>66.1</td>\n",
              "      <td>27.7</td>\n",
              "      <td>20.0</td>\n",
              "      <td>36.1</td>\n",
              "      <td>2.7</td>\n",
              "      <td>34155</td>\n",
              "      <td>29085</td>\n",
              "      <td>20357</td>\n",
              "      <td>18121</td>\n",
              "    </tr>\n",
              "    <tr>\n",
              "      <th>9</th>\n",
              "      <td>2008</td>\n",
              "      <td>311840</td>\n",
              "      <td>194361</td>\n",
              "      <td>108065</td>\n",
              "      <td>62.3</td>\n",
              "      <td>34.7</td>\n",
              "      <td>20.0</td>\n",
              "      <td>33.0</td>\n",
              "      <td>2.8</td>\n",
              "      <td>49771</td>\n",
              "      <td>42662</td>\n",
              "      <td>27203</td>\n",
              "      <td>25132</td>\n",
              "    </tr>\n",
              "  </tbody>\n",
              "</table>\n",
              "</div>\n",
              "    <div class=\"colab-df-buttons\">\n",
              "\n",
              "  <div class=\"colab-df-container\">\n",
              "    <button class=\"colab-df-convert\" onclick=\"convertToInteractive('df-f058c2cb-700d-4d32-a4f5-0e6bf4bc4e6c')\"\n",
              "            title=\"Convert this dataframe to an interactive table.\"\n",
              "            style=\"display:none;\">\n",
              "\n",
              "  <svg xmlns=\"http://www.w3.org/2000/svg\" height=\"24px\" viewBox=\"0 -960 960 960\">\n",
              "    <path d=\"M120-120v-720h720v720H120Zm60-500h600v-160H180v160Zm220 220h160v-160H400v160Zm0 220h160v-160H400v160ZM180-400h160v-160H180v160Zm440 0h160v-160H620v160ZM180-180h160v-160H180v160Zm440 0h160v-160H620v160Z\"/>\n",
              "  </svg>\n",
              "    </button>\n",
              "\n",
              "  <style>\n",
              "    .colab-df-container {\n",
              "      display:flex;\n",
              "      gap: 12px;\n",
              "    }\n",
              "\n",
              "    .colab-df-convert {\n",
              "      background-color: #E8F0FE;\n",
              "      border: none;\n",
              "      border-radius: 50%;\n",
              "      cursor: pointer;\n",
              "      display: none;\n",
              "      fill: #1967D2;\n",
              "      height: 32px;\n",
              "      padding: 0 0 0 0;\n",
              "      width: 32px;\n",
              "    }\n",
              "\n",
              "    .colab-df-convert:hover {\n",
              "      background-color: #E2EBFA;\n",
              "      box-shadow: 0px 1px 2px rgba(60, 64, 67, 0.3), 0px 1px 3px 1px rgba(60, 64, 67, 0.15);\n",
              "      fill: #174EA6;\n",
              "    }\n",
              "\n",
              "    .colab-df-buttons div {\n",
              "      margin-bottom: 4px;\n",
              "    }\n",
              "\n",
              "    [theme=dark] .colab-df-convert {\n",
              "      background-color: #3B4455;\n",
              "      fill: #D2E3FC;\n",
              "    }\n",
              "\n",
              "    [theme=dark] .colab-df-convert:hover {\n",
              "      background-color: #434B5C;\n",
              "      box-shadow: 0px 1px 3px 1px rgba(0, 0, 0, 0.15);\n",
              "      filter: drop-shadow(0px 1px 2px rgba(0, 0, 0, 0.3));\n",
              "      fill: #FFFFFF;\n",
              "    }\n",
              "  </style>\n",
              "\n",
              "    <script>\n",
              "      const buttonEl =\n",
              "        document.querySelector('#df-f058c2cb-700d-4d32-a4f5-0e6bf4bc4e6c button.colab-df-convert');\n",
              "      buttonEl.style.display =\n",
              "        google.colab.kernel.accessAllowed ? 'block' : 'none';\n",
              "\n",
              "      async function convertToInteractive(key) {\n",
              "        const element = document.querySelector('#df-f058c2cb-700d-4d32-a4f5-0e6bf4bc4e6c');\n",
              "        const dataTable =\n",
              "          await google.colab.kernel.invokeFunction('convertToInteractive',\n",
              "                                                    [key], {});\n",
              "        if (!dataTable) return;\n",
              "\n",
              "        const docLinkHtml = 'Like what you see? Visit the ' +\n",
              "          '<a target=\"_blank\" href=https://colab.research.google.com/notebooks/data_table.ipynb>data table notebook</a>'\n",
              "          + ' to learn more about interactive tables.';\n",
              "        element.innerHTML = '';\n",
              "        dataTable['output_type'] = 'display_data';\n",
              "        await google.colab.output.renderOutput(dataTable, element);\n",
              "        const docLink = document.createElement('div');\n",
              "        docLink.innerHTML = docLinkHtml;\n",
              "        element.appendChild(docLink);\n",
              "      }\n",
              "    </script>\n",
              "  </div>\n",
              "\n",
              "\n",
              "<div id=\"df-8b1f02b9-d22d-472e-9433-625d7d2aead0\">\n",
              "  <button class=\"colab-df-quickchart\" onclick=\"quickchart('df-8b1f02b9-d22d-472e-9433-625d7d2aead0')\"\n",
              "            title=\"Suggest charts\"\n",
              "            style=\"display:none;\">\n",
              "\n",
              "<svg xmlns=\"http://www.w3.org/2000/svg\" height=\"24px\"viewBox=\"0 0 24 24\"\n",
              "     width=\"24px\">\n",
              "    <g>\n",
              "        <path d=\"M19 3H5c-1.1 0-2 .9-2 2v14c0 1.1.9 2 2 2h14c1.1 0 2-.9 2-2V5c0-1.1-.9-2-2-2zM9 17H7v-7h2v7zm4 0h-2V7h2v10zm4 0h-2v-4h2v4z\"/>\n",
              "    </g>\n",
              "</svg>\n",
              "  </button>\n",
              "\n",
              "<style>\n",
              "  .colab-df-quickchart {\n",
              "      --bg-color: #E8F0FE;\n",
              "      --fill-color: #1967D2;\n",
              "      --hover-bg-color: #E2EBFA;\n",
              "      --hover-fill-color: #174EA6;\n",
              "      --disabled-fill-color: #AAA;\n",
              "      --disabled-bg-color: #DDD;\n",
              "  }\n",
              "\n",
              "  [theme=dark] .colab-df-quickchart {\n",
              "      --bg-color: #3B4455;\n",
              "      --fill-color: #D2E3FC;\n",
              "      --hover-bg-color: #434B5C;\n",
              "      --hover-fill-color: #FFFFFF;\n",
              "      --disabled-bg-color: #3B4455;\n",
              "      --disabled-fill-color: #666;\n",
              "  }\n",
              "\n",
              "  .colab-df-quickchart {\n",
              "    background-color: var(--bg-color);\n",
              "    border: none;\n",
              "    border-radius: 50%;\n",
              "    cursor: pointer;\n",
              "    display: none;\n",
              "    fill: var(--fill-color);\n",
              "    height: 32px;\n",
              "    padding: 0;\n",
              "    width: 32px;\n",
              "  }\n",
              "\n",
              "  .colab-df-quickchart:hover {\n",
              "    background-color: var(--hover-bg-color);\n",
              "    box-shadow: 0 1px 2px rgba(60, 64, 67, 0.3), 0 1px 3px 1px rgba(60, 64, 67, 0.15);\n",
              "    fill: var(--button-hover-fill-color);\n",
              "  }\n",
              "\n",
              "  .colab-df-quickchart-complete:disabled,\n",
              "  .colab-df-quickchart-complete:disabled:hover {\n",
              "    background-color: var(--disabled-bg-color);\n",
              "    fill: var(--disabled-fill-color);\n",
              "    box-shadow: none;\n",
              "  }\n",
              "\n",
              "  .colab-df-spinner {\n",
              "    border: 2px solid var(--fill-color);\n",
              "    border-color: transparent;\n",
              "    border-bottom-color: var(--fill-color);\n",
              "    animation:\n",
              "      spin 1s steps(1) infinite;\n",
              "  }\n",
              "\n",
              "  @keyframes spin {\n",
              "    0% {\n",
              "      border-color: transparent;\n",
              "      border-bottom-color: var(--fill-color);\n",
              "      border-left-color: var(--fill-color);\n",
              "    }\n",
              "    20% {\n",
              "      border-color: transparent;\n",
              "      border-left-color: var(--fill-color);\n",
              "      border-top-color: var(--fill-color);\n",
              "    }\n",
              "    30% {\n",
              "      border-color: transparent;\n",
              "      border-left-color: var(--fill-color);\n",
              "      border-top-color: var(--fill-color);\n",
              "      border-right-color: var(--fill-color);\n",
              "    }\n",
              "    40% {\n",
              "      border-color: transparent;\n",
              "      border-right-color: var(--fill-color);\n",
              "      border-top-color: var(--fill-color);\n",
              "    }\n",
              "    60% {\n",
              "      border-color: transparent;\n",
              "      border-right-color: var(--fill-color);\n",
              "    }\n",
              "    80% {\n",
              "      border-color: transparent;\n",
              "      border-right-color: var(--fill-color);\n",
              "      border-bottom-color: var(--fill-color);\n",
              "    }\n",
              "    90% {\n",
              "      border-color: transparent;\n",
              "      border-bottom-color: var(--fill-color);\n",
              "    }\n",
              "  }\n",
              "</style>\n",
              "\n",
              "  <script>\n",
              "    async function quickchart(key) {\n",
              "      const quickchartButtonEl =\n",
              "        document.querySelector('#' + key + ' button');\n",
              "      quickchartButtonEl.disabled = true;  // To prevent multiple clicks.\n",
              "      quickchartButtonEl.classList.add('colab-df-spinner');\n",
              "      try {\n",
              "        const charts = await google.colab.kernel.invokeFunction(\n",
              "            'suggestCharts', [key], {});\n",
              "      } catch (error) {\n",
              "        console.error('Error during call to suggestCharts:', error);\n",
              "      }\n",
              "      quickchartButtonEl.classList.remove('colab-df-spinner');\n",
              "      quickchartButtonEl.classList.add('colab-df-quickchart-complete');\n",
              "    }\n",
              "    (() => {\n",
              "      let quickchartButtonEl =\n",
              "        document.querySelector('#df-8b1f02b9-d22d-472e-9433-625d7d2aead0 button');\n",
              "      quickchartButtonEl.style.display =\n",
              "        google.colab.kernel.accessAllowed ? 'block' : 'none';\n",
              "    })();\n",
              "  </script>\n",
              "</div>\n",
              "\n",
              "    </div>\n",
              "  </div>\n"
            ],
            "application/vnd.google.colaboratory.intrinsic+json": {
              "type": "dataframe",
              "summary": "{\n  \"name\": \"display(data\",\n  \"rows\": 10,\n  \"fields\": [\n    {\n      \"column\": \"year\",\n      \"properties\": {\n        \"dtype\": \"number\",\n        \"std\": 0,\n        \"min\": 2008,\n        \"max\": 2008,\n        \"num_unique_values\": 1,\n        \"samples\": [\n          2008\n        ],\n        \"semantic_type\": \"\",\n        \"description\": \"\"\n      }\n    },\n    {\n      \"column\": \"tot_hhs\",\n      \"properties\": {\n        \"dtype\": \"number\",\n        \"std\": 401267,\n        \"min\": 185965,\n        \"max\": 1560859,\n        \"num_unique_values\": 10,\n        \"samples\": [\n          311973\n        ],\n        \"semantic_type\": \"\",\n        \"description\": \"\"\n      }\n    },\n    {\n      \"column\": \"own\",\n      \"properties\": {\n        \"dtype\": \"number\",\n        \"std\": 286306,\n        \"min\": 71256,\n        \"max\": 1087580,\n        \"num_unique_values\": 10,\n        \"samples\": [\n          206342\n        ],\n        \"semantic_type\": \"\",\n        \"description\": \"\"\n      }\n    },\n    {\n      \"column\": \"own_wm\",\n      \"properties\": {\n        \"dtype\": \"number\",\n        \"std\": 157249,\n        \"min\": 39405,\n        \"max\": 574406,\n        \"num_unique_values\": 10,\n        \"samples\": [\n          86390\n        ],\n        \"semantic_type\": \"\",\n        \"description\": \"\"\n      }\n    },\n    {\n      \"column\": \"own_prop\",\n      \"properties\": {\n        \"dtype\": \"number\",\n        \"std\": 11.185948526810073,\n        \"min\": 38.3,\n        \"max\": 81.3,\n        \"num_unique_values\": 9,\n        \"samples\": [\n          66.1\n        ],\n        \"semantic_type\": \"\",\n        \"description\": \"\"\n      }\n    },\n    {\n      \"column\": \"own_wm_prop\",\n      \"properties\": {\n        \"dtype\": \"number\",\n        \"std\": 12.603090449920959,\n        \"min\": 15.5,\n        \"max\": 49.1,\n        \"num_unique_values\": 10,\n        \"samples\": [\n          27.7\n        ],\n        \"semantic_type\": \"\",\n        \"description\": \"\"\n      }\n    },\n    {\n      \"column\": \"prop_hhs\",\n      \"properties\": {\n        \"dtype\": \"number\",\n        \"std\": 25.709161791081403,\n        \"min\": 11.9,\n        \"max\": 100.0,\n        \"num_unique_values\": 3,\n        \"samples\": [\n          100.0\n        ],\n        \"semantic_type\": \"\",\n        \"description\": \"\"\n      }\n    },\n    {\n      \"column\": \"age\",\n      \"properties\": {\n        \"dtype\": \"number\",\n        \"std\": 3.3283963439203306,\n        \"min\": 29.9,\n        \"max\": 40.0,\n        \"num_unique_values\": 10,\n        \"samples\": [\n          36.1\n        ],\n        \"semantic_type\": \"\",\n        \"description\": \"\"\n      }\n    },\n    {\n      \"column\": \"size\",\n      \"properties\": {\n        \"dtype\": \"number\",\n        \"std\": 0.1957890020745122,\n        \"min\": 2.3,\n        \"max\": 3.0,\n        \"num_unique_values\": 6,\n        \"samples\": [\n          2.7\n        ],\n        \"semantic_type\": \"\",\n        \"description\": \"\"\n      }\n    },\n    {\n      \"column\": \"income\",\n      \"properties\": {\n        \"dtype\": \"number\",\n        \"std\": 23586,\n        \"min\": 16747,\n        \"max\": 96861,\n        \"num_unique_values\": 10,\n        \"samples\": [\n          34155\n        ],\n        \"semantic_type\": \"\",\n        \"description\": \"\"\n      }\n    },\n    {\n      \"column\": \"expenditure\",\n      \"properties\": {\n        \"dtype\": \"number\",\n        \"std\": 17006,\n        \"min\": 16413,\n        \"max\": 72822,\n        \"num_unique_values\": 10,\n        \"samples\": [\n          29085\n        ],\n        \"semantic_type\": \"\",\n        \"description\": \"\"\n      }\n    },\n    {\n      \"column\": \"eqv_income\",\n      \"properties\": {\n        \"dtype\": \"number\",\n        \"std\": 12862,\n        \"min\": 13402,\n        \"max\": 55637,\n        \"num_unique_values\": 10,\n        \"samples\": [\n          20357\n        ],\n        \"semantic_type\": \"\",\n        \"description\": \"\"\n      }\n    },\n    {\n      \"column\": \"eqv_exp\",\n      \"properties\": {\n        \"dtype\": \"number\",\n        \"std\": 9451,\n        \"min\": 11015,\n        \"max\": 42932,\n        \"num_unique_values\": 9,\n        \"samples\": [\n          11015\n        ],\n        \"semantic_type\": \"\",\n        \"description\": \"\"\n      }\n    }\n  ]\n}"
            }
          },
          "metadata": {}
        }
      ]
    },
    {
      "cell_type": "markdown",
      "source": [
        "# **Scatter Plot**"
      ],
      "metadata": {
        "id": "22UYwEfuqUTB"
      }
    },
    {
      "cell_type": "code",
      "source": [
        "plt.scatter(data['year'], data['own'])\n",
        "plt.title(\"Scatter Plot\")\n",
        "plt.xlabel('Year')\n",
        "plt.ylabel('Own')\n",
        "plt.show()"
      ],
      "metadata": {
        "colab": {
          "base_uri": "https://localhost:8080/",
          "height": 472
        },
        "id": "8HAXCYuVoqbU",
        "outputId": "31b14639-72c6-4080-8c91-a63b3ac19a3a"
      },
      "execution_count": 4,
      "outputs": [
        {
          "output_type": "display_data",
          "data": {
            "text/plain": [
              "<Figure size 640x480 with 1 Axes>"
            ],
            "image/png": "[encoded data removed]"
          },
          "metadata": {}
        }
      ]
    },
    {
      "cell_type": "markdown",
      "source": [
        "# **Line Plot**"
      ],
      "metadata": {
        "id": "HLGXvFr2qW8_"
      }
    },
    {
      "cell_type": "code",
      "source": [
        "plt.plot(data['year'])\n",
        "plt.plot(data['own'])\n",
        "plt.title(\"Line Plot\")\n",
        "plt.xlabel('Year')\n",
        "plt.ylabel('Own')\n",
        "plt.show()"
      ],
      "metadata": {
        "colab": {
          "base_uri": "https://localhost:8080/",
          "height": 472
        },
        "id": "p54et9aApLnN",
        "outputId": "8916e3d1-5867-4d5a-e550-eba5d1f91346"
      },
      "execution_count": 5,
      "outputs": [
        {
          "output_type": "display_data",
          "data": {
            "text/plain": [
              "<Figure size 640x480 with 1 Axes>"
            ],
            "image/png": "[encoded data removed]"
          },
          "metadata": {}
        }
      ]
    },
    {
      "cell_type": "markdown",
      "source": [
        "# **Bar Chart**"
      ],
      "metadata": {
        "id": "V6t713J6qbE4"
      }
    },
    {
      "cell_type": "code",
      "source": [
        "plt.bar(data['year'],data['own'])\n",
        "plt.title(\"Bar Chart\")\n",
        "plt.xlabel('Year')\n",
        "plt.ylabel('Own')\n",
        "plt.show()"
      ],
      "metadata": {
        "colab": {
          "base_uri": "https://localhost:8080/",
          "height": 472
        },
        "id": "9nWkzj15phzu",
        "outputId": "34fedcbb-1df8-4d0d-cc71-100596c1905e"
      },
      "execution_count": 6,
      "outputs": [
        {
          "output_type": "display_data",
          "data": {
            "text/plain": [
              "<Figure size 640x480 with 1 Axes>"
            ],
            "image/png": "[encoded data removed]"
          },
          "metadata": {}
        }
      ]
    },
    {
      "cell_type": "markdown",
      "source": [
        "# **Histogram**"
      ],
      "metadata": {
        "id": "uABu9ikxqd3k"
      }
    },
    {
      "cell_type": "code",
      "source": [
        "plt.hist(data['income'])\n",
        "plt.title('Histogram')\n",
        "plt.show()"
      ],
      "metadata": {
        "colab": {
          "base_uri": "https://localhost:8080/",
          "height": 452
        },
        "id": "AasDZWAMpt24",
        "outputId": "2cbc42cf-fe54-4a30-c9a4-47e4b6729f1e"
      },
      "execution_count": 7,
      "outputs": [
        {
          "output_type": "display_data",
          "data": {
            "text/plain": [
              "<Figure size 640x480 with 1 Axes>"
            ],
            "image/png": "[encoded data removed]"
          },
          "metadata": {}
        }
      ]
    }
  ]
}