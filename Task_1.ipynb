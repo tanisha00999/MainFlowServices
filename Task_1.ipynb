{
  "nbformat": 4,
  "nbformat_minor": 0,
  "metadata": {
    "colab": {
      "provenance": [],
      "authorship_tag": "ABX9TyOZPH+KXozVyTd1UWLWCC1/",
      "include_colab_link": true
    },
    "kernelspec": {
      "name": "python3",
      "display_name": "Python 3"
    },
    "language_info": {
      "name": "python"
    }
  },
  "cells": [
    {
      "cell_type": "markdown",
      "metadata": {
        "id": "view-in-github",
        "colab_type": "text"
      },
      "source": [
        "<a href=\"https://colab.research.google.com/github/tanisha00999/MainFlowServices/blob/main/Task_1.ipynb\" target=\"_parent\"><img src=\"https://colab.research.google.com/assets/colab-badge.svg\" alt=\"Open In Colab\"/></a>"
      ]
    },
    {
      "cell_type": "markdown",
      "source": [
        "# ***Task-1***\n",
        "\n",
        "### ***List , Dictionary and Set***"
      ],
      "metadata": {
        "id": "qvL0I9vZhX_e"
      }
    },
    {
      "cell_type": "code",
      "execution_count": 1,
      "metadata": {
        "colab": {
          "base_uri": "https://localhost:8080/"
        },
        "id": "5TfaL97hf6oj",
        "outputId": "3a54d19a-d291-4bb1-9189-4b91af57979f"
      },
      "outputs": [
        {
          "output_type": "stream",
          "name": "stdout",
          "text": [
            "The List Contains : ['Cherry', 'Papaya', 'Orange', 'Guava', 'Grapes']\n"
          ]
        }
      ],
      "source": [
        "#Creating a List\n",
        "new_list = ['Mango','Cherry','Papaya','Apple','Guava']\n",
        "\n",
        "#Adding an element in the List\n",
        "new_list.append('Grapes')\n",
        "\n",
        "#Removing an element in the List\n",
        "new_list.remove('Mango')\n",
        "\n",
        "#Modifying element in the List\n",
        "new_list[2] = 'Orange'\n",
        "\n",
        "print(\"The List Contains :\", new_list)"
      ]
    },
    {
      "cell_type": "code",
      "source": [
        "#Creating a Dictionary\n",
        "new_dict = {'Name':'Tanisha','Age':18,'Department':'CSE-DS','Gender':'F'}\n",
        "\n",
        "#Adding an element in the Dictionary\n",
        "new_dict['University']= 'SRM University'\n",
        "\n",
        "#Removing an element in the Dictionary\n",
        "del new_dict['Gender']\n",
        "\n",
        "#Modifying element in the Dictionary\n",
        "new_dict['Age'] = 19\n",
        "\n",
        "print(\"The Dictionary Contains :\", new_dict)"
      ],
      "metadata": {
        "colab": {
          "base_uri": "https://localhost:8080/"
        },
        "id": "SCVBO7lRhW4B",
        "outputId": "a30f4b70-d429-454b-b929-f6788d90f45c"
      },
      "execution_count": 4,
      "outputs": [
        {
          "output_type": "stream",
          "name": "stdout",
          "text": [
            "The Dictionary Contains : {'Name': 'Tanisha', 'Age': 19, 'Department': 'CSE-DS', 'University': 'SRM University'}\n"
          ]
        }
      ]
    },
    {
      "cell_type": "code",
      "source": [
        "#Creating a Set\n",
        "new_set = {10,20,30,40,50}\n",
        "\n",
        "#Adding an element in the Set\n",
        "new_set.add(60)\n",
        "\n",
        "#Remove an element from the Set\n",
        "new_set.remove(30)\n",
        "\n",
        "#Modifying element in the Set\n",
        "new_set.discard(20)\n",
        "new_set.add(70)\n",
        "\n",
        "print(\"The Set Contains :\",new_set)\n"
      ],
      "metadata": {
        "colab": {
          "base_uri": "https://localhost:8080/"
        },
        "id": "HSnB0EuUi_X4",
        "outputId": "173a87de-27a7-49ec-cc19-ffcdf9c858bd"
      },
      "execution_count": 5,
      "outputs": [
        {
          "output_type": "stream",
          "name": "stdout",
          "text": [
            "The Set Contains : {50, 70, 40, 10, 60}\n"
          ]
        }
      ]
    }
  ]
}