{
  "nbformat": 4,
  "nbformat_minor": 0,
  "metadata": {
    "colab": {
      "provenance": [],
      "authorship_tag": "ABX9TyOTIVvmvJtQODYU8bcopFZD",
      "include_colab_link": true
    },
    "kernelspec": {
      "name": "python3",
      "display_name": "Python 3"
    },
    "language_info": {
      "name": "python"
    }
  },
  "cells": [
    {
      "cell_type": "markdown",
      "metadata": {
        "id": "view-in-github",
        "colab_type": "text"
      },
      "source": [
        "<a href=\"https://colab.research.google.com/github/tanisha00999/MainFlowServices/blob/main/Task2.ipynb\" target=\"_parent\"><img src=\"https://colab.research.google.com/assets/colab-badge.svg\" alt=\"Open In Colab\"/></a>"
      ]
    },
    {
      "cell_type": "code",
      "execution_count": 1,
      "metadata": {
        "id": "icihbi36skGU"
      },
      "outputs": [],
      "source": [
        "import pandas as pd\n",
        "\n",
        "# Load the CSV file into a DataFrame\n",
        "df = pd.read_csv('/content/weekday.csv')"
      ]
    },
    {
      "cell_type": "code",
      "source": [
        "filtered_df = df[df['Numeric'] > 3]\n",
        "print(filtered_df)\n"
      ],
      "metadata": {
        "colab": {
          "base_uri": "https://localhost:8080/"
        },
        "id": "UjW5Mb-4u2Up",
        "outputId": "ff3b544d-8d1d-4790-c686-696fcf50c5fd"
      },
      "execution_count": 2,
      "outputs": [
        {
          "output_type": "stream",
          "name": "stdout",
          "text": [
            "       Name Abbreviation  Numeric  Numeric-2\n",
            "3  Thursday         Thu.        4          4\n",
            "4    Friday         Fri.        5          5\n",
            "5  Saturday         Sat.        6          6\n",
            "6    Sunday         Sun.        7          7\n"
          ]
        }
      ]
    },
    {
      "cell_type": "code",
      "source": [
        "# Check for missing values\n",
        "missing_values = df.isnull().sum()\n",
        "print(\"Missing values in each column:\\n\", missing_values)\n",
        "\n",
        "# Fill missing values with 0\n",
        "df_filled = df.fillna(0)\n",
        "print(df_filled)\n"
      ],
      "metadata": {
        "colab": {
          "base_uri": "https://localhost:8080/"
        },
        "id": "Mqso1EQ3vH4f",
        "outputId": "65bd0581-5b04-4178-a9bb-cd467da76e62"
      },
      "execution_count": 3,
      "outputs": [
        {
          "output_type": "stream",
          "name": "stdout",
          "text": [
            "Missing values in each column:\n",
            " Name            0\n",
            "Abbreviation    0\n",
            "Numeric         0\n",
            "Numeric-2       0\n",
            "dtype: int64\n",
            "        Name Abbreviation  Numeric  Numeric-2\n",
            "0     Monday         Mon.        1          1\n",
            "1    Tuesday         Tue.        2          2\n",
            "2  Wednesday         Wed.        3          3\n",
            "3   Thursday         Thu.        4          4\n",
            "4     Friday         Fri.        5          5\n",
            "5   Saturday         Sat.        6          6\n",
            "6     Sunday         Sun.        7          7\n"
          ]
        }
      ]
    },
    {
      "cell_type": "code",
      "source": [
        "summary_stats = df.describe()\n",
        "print(summary_stats)"
      ],
      "metadata": {
        "colab": {
          "base_uri": "https://localhost:8080/"
        },
        "id": "e_J6H1iEvNlD",
        "outputId": "666854e5-13ae-44b8-9546-a152e6b10d18"
      },
      "execution_count": 4,
      "outputs": [
        {
          "output_type": "stream",
          "name": "stdout",
          "text": [
            "        Numeric  Numeric-2\n",
            "count  7.000000   7.000000\n",
            "mean   4.000000   4.000000\n",
            "std    2.160247   2.160247\n",
            "min    1.000000   1.000000\n",
            "25%    2.500000   2.500000\n",
            "50%    4.000000   4.000000\n",
            "75%    5.500000   5.500000\n",
            "max    7.000000   7.000000\n"
          ]
        }
      ]
    },
    {
      "cell_type": "code",
      "source": [],
      "metadata": {
        "id": "qeqQ01U2vSry"
      },
      "execution_count": null,
      "outputs": []
    }
  ]
}